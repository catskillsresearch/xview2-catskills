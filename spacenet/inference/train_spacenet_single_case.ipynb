{
 "cells": [
  {
   "cell_type": "markdown",
   "metadata": {},
   "source": [
    "# Train Spacenet from snapshot on a single case"
   ]
  },
  {
   "cell_type": "code",
   "execution_count": null,
   "metadata": {},
   "outputs": [],
   "source": [
    "from IPython.core.display import display, HTML\n",
    "display(HTML(\"<style>.container { width:100% !important; }</style>\"))"
   ]
  },
  {
   "cell_type": "code",
   "execution_count": null,
   "metadata": {},
   "outputs": [],
   "source": [
    "%matplotlib inline\n",
    "import matplotlib.pyplot as plt"
   ]
  },
  {
   "cell_type": "code",
   "execution_count": null,
   "metadata": {},
   "outputs": [],
   "source": [
    "import cv2\n",
    "import numpy as np\n",
    "from PIL import Image\n",
    "import sys"
   ]
  },
  {
   "cell_type": "code",
   "execution_count": null,
   "metadata": {},
   "outputs": [],
   "source": [
    "import chainer\n",
    "import chainer.functions as F\n",
    "from chainer import cuda, serializers, Variable\n",
    "from inference import inference\n",
    "output='foo.json'"
   ]
  },
  {
   "cell_type": "markdown",
   "metadata": {},
   "source": [
    "## First do inference inside notebook to see how to apply the net"
   ]
  },
  {
   "cell_type": "code",
   "execution_count": null,
   "metadata": {},
   "outputs": [],
   "source": [
    "import cv2\n",
    "import numpy as np\n",
    "from PIL import Image\n",
    "import sys\n",
    "import chainer\n",
    "import chainer.functions as F\n",
    "from chainer import cuda, serializers, Variable\n",
    "from segmentation import SegmentationModel as Model\n",
    "\n",
    "input='/home/catskills/Desktop/dataxv2/xBD/santa-rosa-wildfire/images/santa-rosa-wildfire_00000030_pre_disaster.png'\n",
    "trainfn='/home/catskills/Desktop/dataxv2/xBD/santa-rosa-wildfire/masks/santa-rosa-wildfire_00000030_pre_disaster.png'\n",
    "weights='/home/catskills/Desktop/dataxv2/release/v_catskills_0.0.0/localization.hdf5'\n",
    "mean='/home/catskills/Desktop/xview2-catskills/weights/mean.npy'\n",
    "sys.path.append('../src/models')\n",
    "mean = np.load(mean)\n",
    "model = Model(weights, mean)\n",
    "image = np.array(Image.open(input))\n",
    "train=np.array(Image.open(trainfn))"
   ]
  },
  {
   "cell_type": "code",
   "execution_count": null,
   "metadata": {},
   "outputs": [],
   "source": [
    "def rgb2gray(rgb):\n",
    "    return np.dot(rgb[...,:3], [0.2989, 0.5870, 0.1140])"
   ]
  },
  {
   "cell_type": "code",
   "execution_count": null,
   "metadata": {},
   "outputs": [],
   "source": [
    "train = rgb2gray(np.array(Image.open(trainfn)))>0.5"
   ]
  },
  {
   "cell_type": "code",
   "execution_count": null,
   "metadata": {},
   "outputs": [],
   "source": [
    "train"
   ]
  },
  {
   "cell_type": "code",
   "execution_count": null,
   "metadata": {},
   "outputs": [],
   "source": [
    "plt.imshow(image)"
   ]
  },
  {
   "cell_type": "code",
   "execution_count": null,
   "metadata": {
    "scrolled": true
   },
   "outputs": [],
   "source": [
    "plt.imshow(train)"
   ]
  },
  {
   "cell_type": "code",
   "execution_count": null,
   "metadata": {},
   "outputs": [],
   "source": [
    "score = model.apply_segmentation(image)"
   ]
  },
  {
   "cell_type": "code",
   "execution_count": null,
   "metadata": {},
   "outputs": [],
   "source": [
    "plt.imshow(score[1])"
   ]
  },
  {
   "cell_type": "code",
   "execution_count": null,
   "metadata": {},
   "outputs": [],
   "source": [
    "building_mask_pred = (np.argmax(score, axis=0) == 1)"
   ]
  },
  {
   "cell_type": "code",
   "execution_count": null,
   "metadata": {},
   "outputs": [],
   "source": [
    "bm_only = (building_mask_pred & ~train).astype(int)*9\n",
    "train_only=train & ~building_mask_pred.astype(int)*3\n",
    "bm_and_tr=(building_mask_pred & train).astype(int)*6\n",
    "all = bm_only + train_only + bm_and_tr\n",
    "\n",
    "plt.figure(figsize=(10,10));\n",
    "plt.imshow(all)\n",
    "\n",
    "plt.imshow(building_mask_pred)\n",
    "\n",
    "plt.imshow(building_mask_pred & ~train);\n",
    "\n",
    "plt.imshow(~building_mask_pred & train);\n",
    "\n",
    "plt.imshow((image-mean)/255.);"
   ]
  },
  {
   "cell_type": "raw",
   "metadata": {},
   "source": [
    "with chainer.using_config('train', False):\n",
    "    score_cuda_softmax = F.softmax(score_cuda)\n",
    "cpu = cuda.to_cpu(score_cuda_softmax.data)[0]\n",
    "top, left, bottom, right = crop\n",
    "score_cpu = score_cpu[:, top:bottom, left:right]\n",
    "building_mask_pred = (np.argmax(score_cpu, axis=0) == 1)"
   ]
  },
  {
   "cell_type": "markdown",
   "metadata": {},
   "source": [
    "## Overtrain Santa Rosa 30"
   ]
  },
  {
   "cell_type": "code",
   "execution_count": 1,
   "metadata": {},
   "outputs": [
    {
     "data": {
      "text/html": [
       "<style>.container { width:100% !important; }</style>"
      ],
      "text/plain": [
       "<IPython.core.display.HTML object>"
      ]
     },
     "metadata": {},
     "output_type": "display_data"
    }
   ],
   "source": [
    "from IPython.core.display import display, HTML\n",
    "display(HTML(\"<style>.container { width:100% !important; }</style>\"))"
   ]
  },
  {
   "cell_type": "code",
   "execution_count": null,
   "metadata": {},
   "outputs": [],
   "source": [
    "import sys\n",
    "import numpy as np\n",
    "from PIL import Image\n",
    "import chainer\n",
    "import chainer.functions as F\n",
    "from chainer import cuda, serializers, Variable\n",
    "sys.path.append('../src/models')\n",
    "from segmentation import SegmentationModel as Model\n",
    "\n",
    "def rgb2gray(rgb):\n",
    "    return np.dot(rgb[...,:3], [0.2989, 0.5870, 0.1140])\n",
    "\n",
    "def float_to_cpu(x):\n",
    "    return float(cuda.to_cpu(x.data))\n",
    "\n",
    "weights='/home/catskills/Desktop/dataxv2/release/v_catskills_0.0.0/localization.hdf5'\n",
    "mean='/home/catskills/Desktop/xview2-catskills/weights/mean.npy'\n",
    "mean = np.load(mean)\n",
    "model = Model(weights, mean)\n",
    "\n",
    "optimizer = chainer.optimizers.Adam()\n",
    "optimizer.setup(model._SegmentationModel__model);\n",
    "\n",
    "input='/home/catskills/Desktop/dataxv2/xBD/santa-rosa-wildfire/images/santa-rosa-wildfire_00000030_pre_disaster.png'\n",
    "image = np.array(Image.open(input))\n",
    "image_in, crop = model._SegmentationModel__preprocess(image)\n",
    "\n",
    "trainfn='/home/catskills/Desktop/dataxv2/xBD/santa-rosa-wildfire/masks/santa-rosa-wildfire_00000030_pre_disaster.png'\n",
    "train = rgb2gray(np.array(Image.open(trainfn)))>0.5\n",
    "train_int = train.astype(int)\n",
    "gt=np.array([train_int])\n",
    "gt_in = Variable(cuda.cupy.asarray(gt, dtype=cuda.cupy.int))\n",
    "\n",
    "for i in range(2000):\n",
    "    with chainer.using_config('train', True):\n",
    "        score_cuda= model._SegmentationModel__model.forward(image_in)\n",
    "        loss = F.softmax_cross_entropy(score_cuda, gt_in)\n",
    "        accuracy=float_to_cpu(F.accuracy(score_cuda, gt_in))\n",
    "        if i % 100 == 0:\n",
    "            print(f'[{i}] loss {100*float_to_cpu(loss):.1f}% accuracy {100*accuracy:.1f}%')\n",
    "        model._SegmentationModel__model.cleargrads()\n",
    "        loss.backward()\n",
    "        optimizer.update()"
   ]
  },
  {
   "cell_type": "code",
   "execution_count": 38,
   "metadata": {},
   "outputs": [],
   "source": [
    "from chainer import serializers\n",
    "new_weights='model_updated.hdf5'\n",
    "serializers.save_npz(new_weights, model._SegmentationModel__model)"
   ]
  },
  {
   "cell_type": "code",
   "execution_count": 35,
   "metadata": {},
   "outputs": [],
   "source": [
    "import chainer.computational_graph as c\n",
    "g = c.build_computational_graph(score_cuda)\n",
    "with open('loss.dot', 'w') as o:\n",
    "    o.write(g.dump())"
   ]
  },
  {
   "cell_type": "code",
   "execution_count": 39,
   "metadata": {},
   "outputs": [],
   "source": [
    "%matplotlib inline\n",
    "import matplotlib.pyplot as plt\n",
    "\n",
    "with chainer.using_config('train', True):\n",
    "    score_cuda= model._SegmentationModel__model.forward(image_in)\n",
    "score_cuda_softmax = F.softmax(score_cuda)\n",
    "score_cpu = cuda.to_cpu(score_cuda_softmax.data)[0]\n",
    "top, left, bottom, right = crop\n",
    "score_cpu = score_cpu[:, top:bottom, left:right]\n",
    "building_mask_pred = (np.argmax(score_cpu, axis=0) == 1)\n",
    "\n",
    "bm_only = (building_mask_pred & ~train).astype(int)*9\n",
    "train_only=train & ~building_mask_pred.astype(int)*3\n",
    "bm_and_tr=(building_mask_pred & train).astype(int)*6\n",
    "all = bm_only + train_only + bm_and_tr\n",
    "plt.figure(figsize=(10,10));\n",
    "plt.imshow(all)"
   ]
  },
  {
   "cell_type": "code",
   "execution_count": 46,
   "metadata": {},
   "outputs": [
    {
     "data": {
      "text/plain": [
       "<matplotlib.image.AxesImage at 0x7f5e20549f90>"
      ]
     },
     "execution_count": 46,
     "metadata": {},
     "output_type": "execute_result"
    },
    {
     "data": {
      "image/png": "[encoded data removed]",
      "text/plain": [
       "<Figure size 720x720 with 1 Axes>"
      ]
     },
     "metadata": {
      "needs_background": "light"
     },
     "output_type": "display_data"
    }
   ],
   "source": [
    "plt.figure(figsize=(10,10));\n",
    "plt.imshow(all)"
   ]
  },
  {
   "cell_type": "code",
   "execution_count": null,
   "metadata": {},
   "outputs": [],
   "source": [
    "plt.imshow(building_mask_pred)\n",
    "\n",
    "plt.imshow(building_mask_pred & ~train);\n",
    "\n",
    "plt.imshow(~building_mask_pred & train);"
   ]
  },
  {
   "cell_type": "code",
   "execution_count": 44,
   "metadata": {},
   "outputs": [
    {
     "data": {
      "image/png": "[encoded data removed]",
      "text/plain": [
       "<Figure size 432x288 with 1 Axes>"
      ]
     },
     "metadata": {
      "needs_background": "light"
     },
     "output_type": "display_data"
    }
   ],
   "source": [
    "plt.imshow(building_mask_pred ^ train);"
   ]
  },
  {
   "cell_type": "code",
   "execution_count": null,
   "metadata": {},
   "outputs": [],
   "source": []
  }
 ],
 "metadata": {
  "kernelspec": {
   "display_name": "xview2",
   "language": "python",
   "name": "xview2"
  },
  "language_info": {
   "codemirror_mode": {
    "name": "ipython",
    "version": 3
   },
   "file_extension": ".py",
   "mimetype": "text/x-python",
   "name": "python",
   "nbconvert_exporter": "python",
   "pygments_lexer": "ipython3",
   "version": "3.7.5"
  }
 },
 "nbformat": 4,
 "nbformat_minor": 2
}
