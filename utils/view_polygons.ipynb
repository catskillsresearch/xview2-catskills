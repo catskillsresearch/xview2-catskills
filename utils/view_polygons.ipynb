{
 "cells": [
  {
   "cell_type": "code",
   "execution_count": null,
   "metadata": {
    "hidden": true
   },
   "outputs": [],
   "source": [
    "from ipywidgets import Layout\n",
    "from IPython.display import Javascript, HTML\n",
    "import ipywidgets as widgets\n",
    "\n",
    "def run_all(ev):\n",
    "    display(Javascript('IPython.notebook.execute_cells_below()'))\n",
    "\n",
    "path_to_label = widgets.Text(\n",
    "    placeholder='Label path here',\n",
    "    description='Label:',\n",
    "    disabled=False,\n",
    "    layout=Layout(width='100%')\n",
    ")\n",
    "path_to_image = widgets.Text(\n",
    "    placeholder='Image path here',\n",
    "    description='Image:',\n",
    "    disabled=False,\n",
    "    layout=Layout(width='100%')\n",
    ")"
   ]
  },
  {
   "cell_type": "code",
   "execution_count": null,
   "metadata": {},
   "outputs": [],
   "source": [
    "\n",
    "HTML('''<script>\n",
    "code_show=true; \n",
    "function code_toggle() {\n",
    " if (code_show){\n",
    " $('div.input').hide();\n",
    " } else {\n",
    " $('div.input').show();\n",
    " }\n",
    " code_show = !code_show\n",
    "} \n",
    "$( document ).ready(code_toggle);\n",
    "</script>\n",
    "The raw code for this IPython notebook is by default hidden for easier reading.\n",
    "To toggle on/off the raw code, click <a href=\"javascript:code_toggle()\">here</a>.''')"
   ]
  },
  {
   "cell_type": "code",
   "execution_count": null,
   "metadata": {},
   "outputs": [],
   "source": [
    "display(path_to_label, path_to_image)\n",
    "button = widgets.Button(description=\"Create next input\")\n",
    "button.on_click(run_all)\n",
    "display(button)"
   ]
  },
  {
   "cell_type": "code",
   "execution_count": null,
   "metadata": {},
   "outputs": [],
   "source": [
    "import json \n",
    "from PIL import Image, ImageDraw\n",
    "from IPython.display import display\n",
    "from shapely import wkt"
   ]
  },
  {
   "cell_type": "code",
   "execution_count": null,
   "metadata": {},
   "outputs": [],
   "source": [
    "# Opening and loading polygons from label json \n",
    "path_to_label_value = path_to_label.value\n",
    "path_to_image_value = path_to_image.value\n",
    "\n",
    "with open(path_to_label_value, 'rb') as image_json_file:\n",
    "    image_json = json.load(image_json_file)"
   ]
  },
  {
   "cell_type": "code",
   "execution_count": null,
   "metadata": {},
   "outputs": [],
   "source": [
    "coords = image_json['features']['xy']\n",
    "wkt_polygons = []\n",
    "\n",
    "for coord in coords:\n",
    "    if 'subtype' in coord['properties']:\n",
    "        damage = coord['properties']['subtype']\n",
    "    else:\n",
    "        damage = 'no-damage'\n",
    "    wkt_polygons.append((damage, coord['wkt']))\n",
    "    \n",
    "polygons = []\n",
    "\n",
    "for damage, swkt in wkt_polygons:\n",
    "    polygons.append((damage, wkt.loads(swkt)))"
   ]
  },
  {
   "cell_type": "code",
   "execution_count": null,
   "metadata": {
    "scrolled": false
   },
   "outputs": [],
   "source": [
    "# Loading image\n",
    "img = Image.open(path_to_image_value)"
   ]
  },
  {
   "cell_type": "code",
   "execution_count": null,
   "metadata": {},
   "outputs": [],
   "source": [
    "draw = ImageDraw.Draw(img, 'RGBA')\n",
    "\n",
    "damage_dict = {\n",
    "    \"no-damage\": (0, 255, 0, 100),\n",
    "    \"minor-damage\": (0, 0, 255, 125),\n",
    "    \"major-damage\": (255, 69, 0, 125),\n",
    "    \"destroyed\": (255, 0, 0, 125),\n",
    "    \"un-classified\": (255, 255, 255, 125)\n",
    "}\n",
    "\n",
    "for damage, polygon in polygons:\n",
    "    x,y = polygon.exterior.coords.xy\n",
    "    coords = list(zip(x,y))\n",
    "    draw.polygon(coords, damage_dict[damage])\n",
    "\n",
    "del draw\n",
    "\n",
    "display(img)"
   ]
  },
  {
   "cell_type": "code",
   "execution_count": null,
   "metadata": {},
   "outputs": [],
   "source": []
  },
  {
   "cell_type": "code",
   "execution_count": null,
   "metadata": {},
   "outputs": [],
   "source": []
  },
  {
   "cell_type": "code",
   "execution_count": null,
   "metadata": {},
   "outputs": [],
   "source": []
  }
 ],
 "metadata": {
  "kernelspec": {
   "display_name": "Python 3",
   "language": "python",
   "name": "python3"
  },
  "language_info": {
   "codemirror_mode": {
    "name": "ipython",
    "version": 3
   },
   "file_extension": ".py",
   "mimetype": "text/x-python",
   "name": "python",
   "nbconvert_exporter": "python",
   "pygments_lexer": "ipython3",
   "version": "3.7.4"
  }
 },
 "nbformat": 4,
 "nbformat_minor": 2
}
