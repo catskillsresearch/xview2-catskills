{
 "cells": [
  {
   "cell_type": "code",
   "execution_count": 1,
   "metadata": {},
   "outputs": [
    {
     "data": {
      "text/html": [
       "<style>.container { width:100% !important; }</style>"
      ],
      "text/plain": [
       "<IPython.core.display.HTML object>"
      ]
     },
     "metadata": {},
     "output_type": "display_data"
    }
   ],
   "source": [
    "from IPython.core.display import display, HTML\n",
    "display(HTML(\"<style>.container { width:100% !important; }</style>\"))"
   ]
  },
  {
   "cell_type": "code",
   "execution_count": 2,
   "metadata": {},
   "outputs": [],
   "source": [
    "%load_ext autoreload\n",
    "%autoreload 2\n",
    "\n",
    "%matplotlib inline\n",
    "import matplotlib.pyplot as plt\n",
    "import numpy as np"
   ]
  },
  {
   "cell_type": "code",
   "execution_count": 3,
   "metadata": {},
   "outputs": [],
   "source": [
    "from PIL import Image\n",
    "import numpy as np\n",
    "from tqdm import tqdm"
   ]
  },
  {
   "cell_type": "code",
   "execution_count": 4,
   "metadata": {},
   "outputs": [],
   "source": [
    "import os\n",
    "def mkdir(path):\n",
    "    if not os.path.exists(path):\n",
    "        os.makedirs(path)"
   ]
  },
  {
   "cell_type": "code",
   "execution_count": 5,
   "metadata": {},
   "outputs": [],
   "source": [
    "USERDIR='/home/catskills/Desktop'\n",
    "DATADIR=f'{USERDIR}/dataxv2'\n",
    "PROJECT='xview2-catskills'\n",
    "CODEDIR=f'{USERDIR}/{PROJECT}'\n",
    "VERSION='v_catskills_0.2.1'\n",
    "MODEL_DIR=f'/home/catskills/Desktop/dataxv2/release/{VERSION}'\n",
    "LOCALIZATION_MODEL=f'{MODEL_DIR}/localization.hdf5'\n",
    "DAMAGE_MODEL=f'{MODEL_DIR}/classification.hdf5'\n",
    "MEAN_MODEL=f'{CODEDIR}/weights/mean.npy'\n",
    "VDIR=f'{DATADIR}/{VERSION}'\n",
    "TESTDIR=f'{VDIR}/images'\n",
    "INFER_DIR=f'{VDIR}/labels'\n",
    "POLYDIR=f'{VDIR}/damage_input'\n",
    "SUBMIT_DIR=f'{VDIR}/submit'\n",
    "OUTPUT_CSV=f'{VDIR}/output.csv'\n",
    "DAMAGE_JSON=f'{VDIR}/damage.json'\n",
    "COMBINED_JSON=f'{VDIR}/combined_json'"
   ]
  },
  {
   "cell_type": "code",
   "execution_count": 6,
   "metadata": {},
   "outputs": [],
   "source": [
    "DEBUGDIR=f\"{DATADIR}/debug\""
   ]
  },
  {
   "cell_type": "code",
   "execution_count": 7,
   "metadata": {},
   "outputs": [],
   "source": [
    "mkdir(DEBUGDIR)"
   ]
  },
  {
   "cell_type": "code",
   "execution_count": 31,
   "metadata": {},
   "outputs": [],
   "source": [
    "for x in ['combined_json', 'damage_input', 'images', 'labels', 'prediction', 'gt_labels']:\n",
    "    mkdir(f\"{DEBUGDIR}/{x}\")"
   ]
  },
  {
   "cell_type": "code",
   "execution_count": 9,
   "metadata": {},
   "outputs": [],
   "source": [
    "TRAIN_DIR=f'{DATADIR}/train'"
   ]
  },
  {
   "cell_type": "code",
   "execution_count": 10,
   "metadata": {},
   "outputs": [],
   "source": [
    "from glob import glob"
   ]
  },
  {
   "cell_type": "raw",
   "metadata": {},
   "source": [
    "guatemala-volcano_00000000_post_disaster.png\n",
    "guatemala-volcano_00000000_post_disaster.json"
   ]
  },
  {
   "cell_type": "code",
   "execution_count": 11,
   "metadata": {},
   "outputs": [],
   "source": [
    "fns=glob(f\"{DATADIR}/train/images/*.png\")"
   ]
  },
  {
   "cell_type": "code",
   "execution_count": 20,
   "metadata": {},
   "outputs": [],
   "source": [
    "roots=list(sorted(set(['_'.join(fn.split('/')[-1].split('_')[0:2]) for fn in fns])))"
   ]
  },
  {
   "cell_type": "code",
   "execution_count": 28,
   "metadata": {},
   "outputs": [],
   "source": [
    "from shutil import copyfile\n",
    "from tqdm import tqdm"
   ]
  },
  {
   "cell_type": "code",
   "execution_count": 23,
   "metadata": {},
   "outputs": [
    {
     "data": {
      "text/plain": [
       "'/home/catskills/Desktop/dataxv2/train/images/hurricane-florence_00000178_post_disaster.png'"
      ]
     },
     "execution_count": 23,
     "metadata": {},
     "output_type": "execute_result"
    }
   ],
   "source": [
    "fns[0]"
   ]
  },
  {
   "cell_type": "code",
   "execution_count": 33,
   "metadata": {},
   "outputs": [
    {
     "name": "stderr",
     "output_type": "stream",
     "text": [
      "2799it [00:47, 58.54it/s] \n"
     ]
    }
   ],
   "source": [
    "for i, root in tqdm(enumerate(roots)):\n",
    "    for mode in ('pre', 'post'):\n",
    "        for dr,ext,ndr in [('images','png', 'images'), ('labels', 'json', 'gt_labels')]:\n",
    "            src = f\"{DATADIR}/train/{dr}/{root}_{mode}_disaster.{ext}\"\n",
    "            dst = f\"{DEBUGDIR}/{ndr}/test_{mode}_{i:05d}.{ext}\"\n",
    "            copyfile(src,dst)"
   ]
  },
  {
   "cell_type": "code",
   "execution_count": null,
   "metadata": {},
   "outputs": [],
   "source": []
  }
 ],
 "metadata": {
  "kernelspec": {
   "display_name": "xview2",
   "language": "python",
   "name": "xview2"
  },
  "language_info": {
   "codemirror_mode": {
    "name": "ipython",
    "version": 3
   },
   "file_extension": ".py",
   "mimetype": "text/x-python",
   "name": "python",
   "nbconvert_exporter": "python",
   "pygments_lexer": "ipython3",
   "version": "3.7.5"
  }
 },
 "nbformat": 4,
 "nbformat_minor": 2
}
