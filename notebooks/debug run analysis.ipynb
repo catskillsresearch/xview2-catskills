{
 "cells": [
  {
   "cell_type": "code",
   "execution_count": 1,
   "metadata": {},
   "outputs": [
    {
     "data": {
      "text/html": [
       "<style>.container { width:100% !important; }</style>"
      ],
      "text/plain": [
       "<IPython.core.display.HTML object>"
      ]
     },
     "metadata": {},
     "output_type": "display_data"
    }
   ],
   "source": [
    "from IPython.core.display import display, HTML\n",
    "display(HTML(\"<style>.container { width:100% !important; }</style>\"))"
   ]
  },
  {
   "cell_type": "code",
   "execution_count": 2,
   "metadata": {},
   "outputs": [],
   "source": [
    "%load_ext autoreload\n",
    "%autoreload 2"
   ]
  },
  {
   "cell_type": "code",
   "execution_count": 3,
   "metadata": {},
   "outputs": [],
   "source": [
    "%matplotlib inline\n",
    "import matplotlib.pyplot as plt\n",
    "from IPython.display import Javascript, HTML, display\n",
    "from ipywidgets import Layout"
   ]
  },
  {
   "cell_type": "code",
   "execution_count": 4,
   "metadata": {},
   "outputs": [],
   "source": [
    "import sys\n",
    "import numpy as np\n",
    "from PIL import Image, ImageDraw\n",
    "from tqdm import tqdm\n",
    "import os, json\n",
    "from glob import glob\n",
    "from shapely import wkt\n",
    "sys.path.append('/home/catskills/Desktop/xview2-catskills/utils')\n",
    "from display_chips import *"
   ]
  },
  {
   "cell_type": "code",
   "execution_count": 5,
   "metadata": {},
   "outputs": [],
   "source": [
    "def mkdir(path):\n",
    "    if not os.path.exists(path):\n",
    "        os.makedirs(path)"
   ]
  },
  {
   "cell_type": "code",
   "execution_count": 6,
   "metadata": {},
   "outputs": [],
   "source": [
    "def jload(fn):\n",
    "    with open(fn, 'r') as f:\n",
    "        return (fn, json.load(f)['features']['xy'])"
   ]
  },
  {
   "cell_type": "code",
   "execution_count": 7,
   "metadata": {},
   "outputs": [],
   "source": [
    "USERDIR='/home/catskills/Desktop'\n",
    "DATADIR=f'{USERDIR}/dataxv2'\n",
    "PROJECT='xview2-catskills'\n",
    "CODEDIR=f'{USERDIR}/{PROJECT}'\n",
    "VERSION='v_catskills_0.2.2'\n",
    "MODEL_DIR=f'/home/catskills/Desktop/dataxv2/release/{VERSION}'\n",
    "LOCALIZATION_MODEL=f'{MODEL_DIR}/localization.hdf5'\n",
    "DAMAGE_MODEL=f'{MODEL_DIR}/classification.hdf5'\n",
    "MEAN_MODEL=f'{CODEDIR}/weights/mean.npy'\n",
    "VDIR=f'{DATADIR}/train'\n",
    "TESTDIR=f'{VDIR}/images'\n",
    "INFER_DIR=f'{VDIR}/labels'\n",
    "POLYDIR=f'{VDIR}/damage_input'\n",
    "SUBMIT_DIR=f'{VDIR}/submit'\n",
    "OUTPUT_CSV=f'{VDIR}/output.csv'\n",
    "DAMAGE_JSON=f'{VDIR}/damage.json'\n",
    "COMBINED_JSON=f'{VDIR}/combined_json'\n",
    "DEBUGDIR=f\"{DATADIR}/debug\""
   ]
  },
  {
   "cell_type": "code",
   "execution_count": 8,
   "metadata": {},
   "outputs": [],
   "source": [
    "infer_jsons=list(sorted(glob(f\"{VDIR}/combined_json/*.json\")))"
   ]
  },
  {
   "cell_type": "code",
   "execution_count": 9,
   "metadata": {},
   "outputs": [],
   "source": [
    "gt_jsons=list(sorted(glob(f\"{VDIR}/gt_labels/*post*.json\")))"
   ]
  },
  {
   "cell_type": "code",
   "execution_count": 10,
   "metadata": {},
   "outputs": [],
   "source": [
    "pair_fns=list(zip(gt_jsons, infer_jsons))"
   ]
  },
  {
   "cell_type": "code",
   "execution_count": 11,
   "metadata": {},
   "outputs": [],
   "source": [
    "pairs = [(jload(x),jload(y)) for x,y in pair_fns]"
   ]
  },
  {
   "cell_type": "code",
   "execution_count": 12,
   "metadata": {},
   "outputs": [
    {
     "ename": "IndexError",
     "evalue": "list index out of range",
     "output_type": "error",
     "traceback": [
      "\u001b[0;31m---------------------------------------------------------------------------\u001b[0m",
      "\u001b[0;31mIndexError\u001b[0m                                Traceback (most recent call last)",
      "\u001b[0;32m<ipython-input-12-80fbd4c6688c>\u001b[0m in \u001b[0;36m<module>\u001b[0;34m\u001b[0m\n\u001b[0;32m----> 1\u001b[0;31m \u001b[0mpairs\u001b[0m\u001b[0;34m[\u001b[0m\u001b[0;36m0\u001b[0m\u001b[0;34m]\u001b[0m\u001b[0;34m[\u001b[0m\u001b[0;36m0\u001b[0m\u001b[0;34m]\u001b[0m\u001b[0;34m[\u001b[0m\u001b[0;36m0\u001b[0m\u001b[0;34m]\u001b[0m\u001b[0;34m,\u001b[0m \u001b[0mpairs\u001b[0m\u001b[0;34m[\u001b[0m\u001b[0;36m0\u001b[0m\u001b[0;34m]\u001b[0m\u001b[0;34m[\u001b[0m\u001b[0;36m1\u001b[0m\u001b[0;34m]\u001b[0m\u001b[0;34m[\u001b[0m\u001b[0;36m0\u001b[0m\u001b[0;34m]\u001b[0m\u001b[0;34m\u001b[0m\u001b[0;34m\u001b[0m\u001b[0m\n\u001b[0m",
      "\u001b[0;31mIndexError\u001b[0m: list index out of range"
     ]
    }
   ],
   "source": [
    "pairs[0][0][0], pairs[0][1][0]"
   ]
  },
  {
   "cell_type": "code",
   "execution_count": null,
   "metadata": {},
   "outputs": [],
   "source": [
    "def get_image_fn(fn_gt):\n",
    "    id=fn_gt.split('/')[-1].split('.')[0].split('_')[-1]\n",
    "    image_dir='/'.join(fn_gt.split('/')[0:-2]+['images'])\n",
    "    image_fn=f\"{image_dir}/test_pre_{id}.png\"\n",
    "    return image_fn"
   ]
  },
  {
   "cell_type": "code",
   "execution_count": null,
   "metadata": {},
   "outputs": [],
   "source": [
    "for (fn_gt, gt), (fn_pred, pred) in pairs[2:]:\n",
    "    path_to_image_value=get_image_fn(fn_gt)\n",
    "    display_chips2(path_to_image_value, pred, gt)\n",
    "    break"
   ]
  },
  {
   "cell_type": "code",
   "execution_count": 49,
   "metadata": {},
   "outputs": [
    {
     "data": {
      "text/plain": [
       "(1, 11)"
      ]
     },
     "execution_count": 49,
     "metadata": {},
     "output_type": "execute_result"
    }
   ],
   "source": [
    "len(gt), len(pred)"
   ]
  },
  {
   "cell_type": "code",
   "execution_count": null,
   "metadata": {
    "scrolled": false
   },
   "outputs": [],
   "source": [
    "display_chips2(path_to_image_value, pred, {})"
   ]
  },
  {
   "cell_type": "code",
   "execution_count": null,
   "metadata": {},
   "outputs": [],
   "source": [
    "display_chips2(path_to_image_value, {}, gt)\n"
   ]
  },
  {
   "cell_type": "code",
   "execution_count": 53,
   "metadata": {},
   "outputs": [
    {
     "data": {
      "text/plain": [
       "(1, 11)"
      ]
     },
     "execution_count": 53,
     "metadata": {},
     "output_type": "execute_result"
    }
   ],
   "source": [
    "gtp=[y for x,y in json_to_polygons(gt)]\n",
    "prp=[y for x,y in json_to_polygons(pred)]\n",
    "len(gtp), len(prp)"
   ]
  },
  {
   "cell_type": "code",
   "execution_count": 54,
   "metadata": {},
   "outputs": [
    {
     "data": {
      "text/plain": [
       "[<shapely.geometry.polygon.Polygon at 0x7fe62ef06590>]"
      ]
     },
     "execution_count": 54,
     "metadata": {},
     "output_type": "execute_result"
    }
   ],
   "source": [
    "gtp"
   ]
  },
  {
   "cell_type": "code",
   "execution_count": 56,
   "metadata": {},
   "outputs": [
    {
     "data": {
      "text/plain": [
       "7"
      ]
     },
     "execution_count": 56,
     "metadata": {},
     "output_type": "execute_result"
    }
   ],
   "source": [
    "grouping=[(gt, [x for x in prp if x.intersects(gt)]) for gt in gtp]\n",
    "sum([len(y) for x,y in grouping])"
   ]
  },
  {
   "cell_type": "code",
   "execution_count": 58,
   "metadata": {},
   "outputs": [
    {
     "data": {
      "text/plain": [
       "[7]"
      ]
     },
     "execution_count": 58,
     "metadata": {},
     "output_type": "execute_result"
    }
   ],
   "source": [
    "[len(y) for x,y in grouping]"
   ]
  },
  {
   "cell_type": "code",
   "execution_count": 59,
   "metadata": {},
   "outputs": [
    {
     "data": {
      "text/plain": [
       "[0, 0, 1, 1, 1, 1, 1, 1, 1, 0, 0]"
      ]
     },
     "execution_count": 59,
     "metadata": {},
     "output_type": "execute_result"
    }
   ],
   "source": [
    "[len([x for x in gtp if x.intersects(gt)]) for gt in prp]"
   ]
  },
  {
   "cell_type": "code",
   "execution_count": 60,
   "metadata": {},
   "outputs": [],
   "source": [
    "loc_dist=[(len(gt),len(pred)) for (fn_gt, gt), (fn_pred, pred) in pairs]"
   ]
  },
  {
   "cell_type": "code",
   "execution_count": 61,
   "metadata": {},
   "outputs": [
    {
     "data": {
      "text/plain": [
       "[(10, 14),\n",
       " (4, 4),\n",
       " (1, 11),\n",
       " (97, 102),\n",
       " (9, 6),\n",
       " (0, 0),\n",
       " (2, 0),\n",
       " (13, 30),\n",
       " (131, 124),\n",
       " (7, 8)]"
      ]
     },
     "execution_count": 61,
     "metadata": {},
     "output_type": "execute_result"
    }
   ],
   "source": [
    "loc_dist[0:10]"
   ]
  },
  {
   "cell_type": "code",
   "execution_count": 80,
   "metadata": {},
   "outputs": [
    {
     "data": {
      "image/png": "[encoded data removed]",
      "text/plain": [
       "<Figure size 432x288 with 1 Axes>"
      ]
     },
     "metadata": {
      "needs_background": "light"
     },
     "output_type": "display_data"
    }
   ],
   "source": [
    "plt.hist([np.log2(gt) for gt,pred in loc_dist if gt], bins=100);\n",
    "plt.ylabel(\"# images\");\n",
    "plt.xlabel(\"log2(#buildings/image)\");"
   ]
  },
  {
   "cell_type": "code",
   "execution_count": 82,
   "metadata": {},
   "outputs": [
    {
     "data": {
      "image/png": "[encoded data removed]",
      "text/plain": [
       "<Figure size 432x288 with 1 Axes>"
      ]
     },
     "metadata": {
      "needs_background": "light"
     },
     "output_type": "display_data"
    }
   ],
   "source": [
    "plt.hist([gt for gt,pred in loc_dist if gt], bins=100);\n",
    "plt.ylabel(\"# images\");\n",
    "plt.xlabel(\"#buildings/image\");"
   ]
  },
  {
   "cell_type": "code",
   "execution_count": 86,
   "metadata": {},
   "outputs": [
    {
     "data": {
      "text/plain": [
       "-1"
      ]
     },
     "execution_count": 86,
     "metadata": {},
     "output_type": "execute_result"
    }
   ],
   "source": [
    "np.sign(-10)"
   ]
  },
  {
   "cell_type": "code",
   "execution_count": 89,
   "metadata": {},
   "outputs": [
    {
     "data": {
      "image/png": "[encoded data removed]",
      "text/plain": [
       "<Figure size 432x288 with 1 Axes>"
      ]
     },
     "metadata": {
      "needs_background": "light"
     },
     "output_type": "display_data"
    }
   ],
   "source": [
    "plt.hist([np.sign(pred-gt)*np.log2(np.abs(pred-gt)) for gt,pred in loc_dist if gt!=pred], bins=100);\n",
    "plt.ylabel(\"# images\");\n",
    "plt.xlabel(\"signed log of diff predicted-gt #buildings/image\");"
   ]
  },
  {
   "cell_type": "code",
   "execution_count": 70,
   "metadata": {},
   "outputs": [
    {
     "data": {
      "text/plain": [
       "516"
      ]
     },
     "execution_count": 70,
     "metadata": {},
     "output_type": "execute_result"
    }
   ],
   "source": [
    "len([gt for gt,pred in loc_dist if gt==0])"
   ]
  },
  {
   "cell_type": "code",
   "execution_count": 71,
   "metadata": {},
   "outputs": [
    {
     "data": {
      "text/plain": [
       "516"
      ]
     },
     "execution_count": 71,
     "metadata": {},
     "output_type": "execute_result"
    }
   ],
   "source": [
    "len([pred for gt,pred in loc_dist if gt==0])"
   ]
  },
  {
   "cell_type": "code",
   "execution_count": 72,
   "metadata": {},
   "outputs": [
    {
     "data": {
      "text/plain": [
       "2799"
      ]
     },
     "execution_count": 72,
     "metadata": {},
     "output_type": "execute_result"
    }
   ],
   "source": [
    "len(loc_dist)"
   ]
  },
  {
   "cell_type": "code",
   "execution_count": 73,
   "metadata": {},
   "outputs": [
    {
     "data": {
      "text/plain": [
       "0.18435155412647375"
      ]
     },
     "execution_count": 73,
     "metadata": {},
     "output_type": "execute_result"
    }
   ],
   "source": [
    "516/2799"
   ]
  },
  {
   "cell_type": "markdown",
   "metadata": {},
   "source": [
    "damage class overprediction"
   ]
  },
  {
   "cell_type": "code",
   "execution_count": 93,
   "metadata": {},
   "outputs": [
    {
     "data": {
      "text/plain": [
       "{'properties': {'feature_type': 'building',\n",
       "  'uid': '8546efb9-8707-4af9-bc8e-48580aa50bcf',\n",
       "  'subtype': 'no-damage'},\n",
       " 'wkt': 'POLYGON ((981.0 339.0,979.0 341.0,978.0 340.0,977.0 341.0,976.0 341.0,975.0 342.0,973.0 342.0,972.0 343.0,971.0 343.0,970.0 344.0,970.0 345.0,972.0 347.0,975.0 347.0,976.0 348.0,978.0 348.0,979.0 349.0,985.0 349.0,985.0 344.0,984.0 343.0,984.0 342.0,983.0 341.0,983.0 340.0,982.0 339.0,981.0 339.0))'}"
      ]
     },
     "execution_count": 93,
     "metadata": {},
     "output_type": "execute_result"
    }
   ],
   "source": [
    "pred[0]"
   ]
  },
  {
   "cell_type": "code",
   "execution_count": 102,
   "metadata": {},
   "outputs": [],
   "source": [
    "damages={'gt':{'destroyed':0, 'major-damage':0, 'minor-damage':0, 'no-damage':0, 'un-classified': 0}, \n",
    "         'pred':{'destroyed':0, 'major-damage':0, 'minor-damage':0, 'no-damage':0, 'un-classified': 0}}"
   ]
  },
  {
   "cell_type": "code",
   "execution_count": 103,
   "metadata": {},
   "outputs": [],
   "source": [
    "for (fn_gt, gt), (fn_pred, pred) in pairs:\n",
    "    for building in gt:\n",
    "        damages['gt'][building['properties']['subtype']]+=1\n",
    "    for building in pred:\n",
    "        damages['pred'][building['properties']['subtype']]+=1"
   ]
  },
  {
   "cell_type": "code",
   "execution_count": 104,
   "metadata": {},
   "outputs": [
    {
     "data": {
      "text/plain": [
       "{'gt': {'destroyed': 13227,\n",
       "  'major-damage': 14161,\n",
       "  'minor-damage': 14980,\n",
       "  'no-damage': 117426,\n",
       "  'un-classified': 2993},\n",
       " 'pred': {'destroyed': 21158,\n",
       "  'major-damage': 4175,\n",
       "  'minor-damage': 5476,\n",
       "  'no-damage': 149258,\n",
       "  'un-classified': 0}}"
      ]
     },
     "execution_count": 104,
     "metadata": {},
     "output_type": "execute_result"
    }
   ],
   "source": [
    "damages"
   ]
  },
  {
   "cell_type": "code",
   "execution_count": null,
   "metadata": {},
   "outputs": [],
   "source": []
  }
 ],
 "metadata": {
  "kernelspec": {
   "display_name": "xview2",
   "language": "python",
   "name": "xview2"
  },
  "language_info": {
   "codemirror_mode": {
    "name": "ipython",
    "version": 3
   },
   "file_extension": ".py",
   "mimetype": "text/x-python",
   "name": "python",
   "nbconvert_exporter": "python",
   "pygments_lexer": "ipython3",
   "version": "3.7.5"
  }
 },
 "nbformat": 4,
 "nbformat_minor": 2
}
